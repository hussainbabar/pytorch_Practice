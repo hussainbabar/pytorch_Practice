{
  "nbformat": 4,
  "nbformat_minor": 0,
  "metadata": {
    "colab": {
      "provenance": [],
      "gpuType": "T4",
      "authorship_tag": "ABX9TyPfH0uFQDcxZS0KoSyHX5EA",
      "include_colab_link": true
    },
    "kernelspec": {
      "name": "python3",
      "display_name": "Python 3"
    },
    "language_info": {
      "name": "python"
    }
  },
  "cells": [
    {
      "cell_type": "markdown",
      "metadata": {
        "id": "view-in-github",
        "colab_type": "text"
      },
      "source": [
        "<a href=\"https://colab.research.google.com/github/hussainbabar/pytorch_Practice/blob/main/Tensors.ipynb\" target=\"_parent\"><img src=\"https://colab.research.google.com/assets/colab-badge.svg\" alt=\"Open In Colab\"/></a>"
      ]
    },
    {
      "cell_type": "code",
      "execution_count": 1,
      "metadata": {
        "id": "ycLB-IflgxX-"
      },
      "outputs": [],
      "source": [
        "# Lists"
      ]
    },
    {
      "cell_type": "code",
      "source": [
        "my_List = [1,2,3,4]\n",
        "my_List\n"
      ],
      "metadata": {
        "colab": {
          "base_uri": "https://localhost:8080/"
        },
        "id": "KyvkNXJQia2a",
        "outputId": "1bd98364-8f56-41b5-a6db-bee8302c9ed9"
      },
      "execution_count": 2,
      "outputs": [
        {
          "output_type": "execute_result",
          "data": {
            "text/plain": [
              "[1, 2, 3, 4]"
            ]
          },
          "metadata": {},
          "execution_count": 2
        }
      ]
    },
    {
      "cell_type": "code",
      "source": [
        "# Numpys\n",
        "import numpy as np\n"
      ],
      "metadata": {
        "id": "o7-8vr2HiocF"
      },
      "execution_count": 4,
      "outputs": []
    },
    {
      "cell_type": "markdown",
      "source": [],
      "metadata": {
        "id": "l6YMdNqihLqE"
      }
    },
    {
      "cell_type": "code",
      "source": [
        "np1 = np.random.rand(3,4)\n",
        "np1"
      ],
      "metadata": {
        "colab": {
          "base_uri": "https://localhost:8080/"
        },
        "id": "N1Eme0qLkXyA",
        "outputId": "9a44fbb6-fd35-4e48-bbcc-e193989852c0"
      },
      "execution_count": 5,
      "outputs": [
        {
          "output_type": "execute_result",
          "data": {
            "text/plain": [
              "array([[0.01328996, 0.36919728, 0.47056201, 0.99907464],\n",
              "       [0.44143624, 0.34496719, 0.00696523, 0.36057222],\n",
              "       [0.72723863, 0.16287153, 0.91702746, 0.59293709]])"
            ]
          },
          "metadata": {},
          "execution_count": 5
        }
      ]
    },
    {
      "cell_type": "markdown",
      "source": [
        "## Tensors"
      ],
      "metadata": {
        "id": "lQ_tDct-kjXA"
      }
    },
    {
      "cell_type": "code",
      "source": [
        "np2 = np.random.rand(3,4,2)\n",
        "np2"
      ],
      "metadata": {
        "colab": {
          "base_uri": "https://localhost:8080/"
        },
        "id": "8cKkQ0tukeGj",
        "outputId": "c8baf42d-4b32-4cef-e2e4-8a82336261a5"
      },
      "execution_count": 6,
      "outputs": [
        {
          "output_type": "execute_result",
          "data": {
            "text/plain": [
              "array([[[0.33968477, 0.48429836],\n",
              "        [0.3636794 , 0.61836678],\n",
              "        [0.98525464, 0.64891746],\n",
              "        [0.5482148 , 0.97126664]],\n",
              "\n",
              "       [[0.02449753, 0.5335496 ],\n",
              "        [0.15475708, 0.88057143],\n",
              "        [0.56903534, 0.22381787],\n",
              "        [0.76464181, 0.54064256]],\n",
              "\n",
              "       [[0.82793346, 0.67386805],\n",
              "        [0.19175725, 0.43702244],\n",
              "        [0.04659405, 0.93246615],\n",
              "        [0.94976527, 0.67197545]]])"
            ]
          },
          "metadata": {},
          "execution_count": 6
        }
      ]
    },
    {
      "cell_type": "markdown",
      "source": [
        "# Tesnors"
      ],
      "metadata": {
        "id": "5ozoe4xdkp5a"
      }
    },
    {
      "cell_type": "code",
      "source": [
        "import torch\n",
        "\n",
        "x = torch.empty(1)\n",
        "x"
      ],
      "metadata": {
        "colab": {
          "base_uri": "https://localhost:8080/"
        },
        "id": "5gJ60FBKks_v",
        "outputId": "e288bd82-798f-471c-8ae9-b426f37aa668"
      },
      "execution_count": 4,
      "outputs": [
        {
          "output_type": "execute_result",
          "data": {
            "text/plain": [
              "tensor([2.7203e+22])"
            ]
          },
          "metadata": {},
          "execution_count": 4
        }
      ]
    },
    {
      "cell_type": "code",
      "source": [
        "tensor_2d = torch.randn(3,4)\n",
        "tensor_2d"
      ],
      "metadata": {
        "colab": {
          "base_uri": "https://localhost:8080/"
        },
        "id": "yUzTU2jLkyzV",
        "outputId": "02a200e9-2510-4665-e6e4-31272aa092a3"
      },
      "execution_count": 8,
      "outputs": [
        {
          "output_type": "execute_result",
          "data": {
            "text/plain": [
              "tensor([[ 0.3846, -0.3433,  1.3831,  0.3911],\n",
              "        [ 0.2100, -0.1589, -0.1930, -0.8851],\n",
              "        [ 1.5725,  0.5584, -0.4734,  1.0672]])"
            ]
          },
          "metadata": {},
          "execution_count": 8
        }
      ]
    },
    {
      "cell_type": "code",
      "source": [
        "tensor_3d = torch.randn(3,4,5)\n",
        "tensor_3d"
      ],
      "metadata": {
        "colab": {
          "base_uri": "https://localhost:8080/"
        },
        "id": "3DCwdIGdk_Er",
        "outputId": "a6b6c01f-ae50-4720-fffb-9f893d851769"
      },
      "execution_count": 5,
      "outputs": [
        {
          "output_type": "execute_result",
          "data": {
            "text/plain": [
              "tensor([[[ 0.1469, -0.1761,  0.1027,  0.6834, -0.9156],\n",
              "         [-0.4371, -0.3154,  2.1673,  0.0522,  0.3923],\n",
              "         [ 1.1178, -0.6853,  0.2983,  0.1486, -0.2296],\n",
              "         [ 0.2246, -0.0181, -1.2331,  1.0245,  0.1015]],\n",
              "\n",
              "        [[ 1.2531,  0.1873, -1.2714,  0.3958, -1.5595],\n",
              "         [ 0.1168, -0.5732,  1.1179,  1.8340, -1.1022],\n",
              "         [-0.0538, -1.6342, -1.4121,  0.9942,  0.1998],\n",
              "         [-0.3411,  1.0318, -1.0848,  1.9026, -0.4057]],\n",
              "\n",
              "        [[ 1.0149,  0.6012,  0.4595, -1.5522,  1.9888],\n",
              "         [ 0.7238,  0.1775,  0.0416, -0.4008,  0.3972],\n",
              "         [-0.9326, -1.2744, -1.5580, -0.9725, -1.2171],\n",
              "         [-1.0379, -0.1053,  0.0640, -1.0808, -0.3307]]])"
            ]
          },
          "metadata": {},
          "execution_count": 5
        }
      ]
    },
    {
      "cell_type": "markdown",
      "source": [
        "\n",
        "\n",
        "1.   Tesnors is a multi dimnesional matrix containing elements of a single data type\n",
        "2.   Similar to numpys arrays, full of fun that make them work better on GPU\n",
        "\n",
        "3. Default datatype is flot32\n",
        "4. More suitable for deep learning than a numpy\n",
        "\n",
        "\n",
        "\n",
        "\n"
      ],
      "metadata": {
        "id": "jTUp0KWRlQ-9"
      }
    },
    {
      "cell_type": "code",
      "source": [],
      "metadata": {
        "id": "sT_D3AYPl8b4"
      },
      "execution_count": null,
      "outputs": []
    }
  ]
}